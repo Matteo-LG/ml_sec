{
 "cells": [
  {
   "cell_type": "markdown",
   "metadata": {},
   "source": [
    "This script can be used to compare the different model architecture through the confusion matrix\n",
    "\n",
    "### Import modules"
   ]
  },
  {
   "cell_type": "code",
   "execution_count": 1,
   "metadata": {},
   "outputs": [
    {
     "data": {
      "text/plain": [
       "<torch._C.Generator at 0x7febaff2e590>"
      ]
     },
     "execution_count": 1,
     "metadata": {},
     "output_type": "execute_result"
    }
   ],
   "source": [
    "import matplotlib.pyplot as plt\n",
    "import numpy as np\n",
    "import torch\n",
    "import torch.nn as nn\n",
    "import torchvision\n",
    "import torchvision.transforms as transforms\n",
    "from torch.utils.data import DataLoader\n",
    "from torchmetrics.classification import ConfusionMatrix\n",
    "\n",
    "# Put a defined seed to be able to have \"deterministic\" results\n",
    "torch.manual_seed(0)"
   ]
  },
  {
   "cell_type": "markdown",
   "metadata": {},
   "source": [
    "### Import and process data"
   ]
  },
  {
   "cell_type": "code",
   "execution_count": null,
   "metadata": {},
   "outputs": [],
   "source": [
    "dataset_full = torchvision.datasets.FashionMNIST(\n",
    "    \"data\", train=True, download=True, transform=transforms.ToTensor()\n",
    ")\n",
    "\n",
    "# Choosing the classes we want\n",
    "idx_tshirt_trouser = [0, 1]\n",
    "idx_pullover_dress = [2, 3]\n",
    "idx_tshirt_trouser_pullover_dress = [0, 1, 2, 3]\n",
    "\n",
    "# Creating the datasets\n",
    "dataset_tshirt_trouser = [\n",
    "    data for data in dataset_full if data[1] in idx_tshirt_trouser\n",
    "]  # 01\n",
    "dataset_pullover_dress = [\n",
    "    data for data in dataset_full if data[1] in idx_pullover_dress\n",
    "]  # 23\n",
    "dataset_tshirt_trouser_pullover_dress = [\n",
    "    data for data in dataset_full if data[1] in idx_tshirt_trouser_pullover_dress\n",
    "]\n",
    "\n",
    "# Splits the datasets between train and test\n",
    "train_dataset_all, test_dataset_all = torch.utils.data.dataset.random_split(\n",
    "    dataset_full, [50000, 10000]\n",
    ")\n",
    "train_dataset_01, test_dataset_01 = torch.utils.data.dataset.random_split(\n",
    "    dataset_tshirt_trouser, [10000, 2000]\n",
    ")\n",
    "train_dataset_23, test_dataset_23 = torch.utils.data.dataset.random_split(\n",
    "    dataset_pullover_dress, [10000, 2000]\n",
    ")\n",
    "train_dataset_0123, test_dataset_0123 = torch.utils.data.dataset.random_split(\n",
    "    dataset_tshirt_trouser_pullover_dress, [20000, 4000]\n",
    ")\n",
    "\n",
    "# Creating PyTorch DataLoader with a batch_size of 8\n",
    "batch_size = 8\n",
    "train_loader_all = DataLoader(train_dataset_all, batch_size=batch_size)\n",
    "test_loader_all = DataLoader(test_dataset_all, batch_size=batch_size)\n",
    "\n",
    "train_loader_01 = DataLoader(train_dataset_01, batch_size=batch_size)\n",
    "test_loader_01 = DataLoader(test_dataset_01, batch_size=batch_size)\n",
    "\n",
    "train_loader_23 = DataLoader(train_dataset_23, batch_size=batch_size)\n",
    "test_loader_23 = DataLoader(test_dataset_23, batch_size=batch_size)\n",
    "\n",
    "train_loader_0123 = DataLoader(train_dataset_0123, batch_size=batch_size)\n",
    "test_loader_0123 = DataLoader(test_dataset_0123, batch_size=batch_size)"
   ]
  },
  {
   "cell_type": "markdown",
   "metadata": {},
   "source": [
    "### Architecture of the model"
   ]
  },
  {
   "cell_type": "code",
   "execution_count": null,
   "metadata": {},
   "outputs": [],
   "source": [
    "# Simple class that creates a CNN network with \n",
    "# two convolutional layers and a FCN\n",
    "\n",
    "class FashionCNN(nn.Module):\n",
    "    def __init__(self):\n",
    "        super(FashionCNN, self).__init__()\n",
    "\n",
    "        self.layer1 = nn.Sequential(\n",
    "            nn.Conv2d(in_channels=1, out_channels=32, kernel_size=3, padding=1),\n",
    "            nn.BatchNorm2d(32),\n",
    "            nn.ReLU(),\n",
    "            nn.MaxPool2d(kernel_size=2, stride=2),\n",
    "        )\n",
    "\n",
    "        self.layer2 = nn.Sequential(\n",
    "            nn.Conv2d(in_channels=32, out_channels=64, kernel_size=3),\n",
    "            nn.BatchNorm2d(64),\n",
    "            nn.ReLU(),\n",
    "            nn.MaxPool2d(2),\n",
    "        )\n",
    "\n",
    "        self.fc1 = nn.Linear(in_features=64 * 6 * 6, out_features=600)\n",
    "        self.fc2 = nn.Linear(in_features=600, out_features=120)\n",
    "        self.fc3 = nn.Linear(in_features=120, out_features=4)\n",
    "\n",
    "    def forward(self, x):\n",
    "        out = self.layer1(x)\n",
    "        out = self.layer2(out)\n",
    "        out = out.view(out.size(0), -1)\n",
    "        out = self.fc1(out)\n",
    "        out = self.fc2(out)\n",
    "        out = self.fc3(out)\n",
    "\n",
    "        return out"
   ]
  },
  {
   "cell_type": "markdown",
   "metadata": {},
   "source": [
    "### Compute sum of confusion matrix for the two training methods"
   ]
  },
  {
   "cell_type": "code",
   "execution_count": null,
   "metadata": {},
   "outputs": [],
   "source": [
    "versions = [\"01_0123\", \"23_0123\"] # from the generic name of the models, to import them\n",
    "\n",
    "device = torch.device(\"cuda:0\" if torch.cuda.is_available() else \"cpu\")\n",
    "avg_confusion = []\n",
    "n_models = 50\n",
    "for version in versions:\n",
    "    all_y_pred = []\n",
    "    all_y_true = []\n",
    "\n",
    "    for i in range(n_models):\n",
    "        path = f\"models/model_{version}_ex_{i}.pth\"\n",
    "        model_dict = torch.load(path)\n",
    "        model = FashionCNN()\n",
    "        model.to(device)\n",
    "        model.load_state_dict(model_dict[\"model_state_dict\"])\n",
    "        model.eval()\n",
    "\n",
    "        y_pred = []\n",
    "        y_true = []\n",
    "\n",
    "        for inputs, labels in test_loader_0123:\n",
    "            inputs, labels = inputs.to(device), labels.to(device)\n",
    "            output = model(inputs)\n",
    "\n",
    "            output = (torch.max(torch.exp(output), 1)[1]).data.cpu().numpy()\n",
    "            y_pred.extend(output)\n",
    "            labels = labels.data.cpu().numpy()\n",
    "            y_true.extend(labels)\n",
    "\n",
    "        all_y_pred.extend(y_pred)\n",
    "        all_y_true.extend(y_true)\n",
    "\n",
    "    classes = (\"T-shirt/top\", \"Trouser\", \"Pullover\", \"Dress\")\n",
    "    metric = ConfusionMatrix(task=\"multiclass\", num_classes=4)\n",
    "    metric.update(torch.tensor(all_y_pred), torch.tensor(all_y_true))\n",
    "    plt.figure()\n",
    "    metric.plot()\n",
    "\n",
    "    conf_matrix_tensor = metric.compute().detach().cpu()\n",
    "    conf_matrix_numpy = conf_matrix_tensor.numpy()\n",
    "    avg_confusion.append(conf_matrix_numpy / n_models)\n",
    "\n",
    "plt.show()"
   ]
  },
  {
   "cell_type": "markdown",
   "metadata": {},
   "source": [
    "### Compare them to new models\n",
    "\n",
    "Now we calculate the distance between new models and those average confusion matrix"
   ]
  },
  {
   "cell_type": "code",
   "execution_count": null,
   "metadata": {},
   "outputs": [],
   "source": [
    "versions = [\"01_0123_test\", \"23_0123_test\"] # again, the generic name\n",
    "\n",
    "device = torch.device(\"cuda:0\" if torch.cuda.is_available() else \"cpu\")\n",
    "n_models = 50\n",
    "results = []\n",
    "results_off_diag = []\n",
    "results_diag = []\n",
    "for version in versions:\n",
    "    result = []\n",
    "    result_off_diag = []\n",
    "    result_diag = []\n",
    "    for i in range(n_models):\n",
    "        path = f\"models/model_{version}_ex_{i}.pth\"\n",
    "        model_dict = torch.load(path)\n",
    "        model = FashionCNN()\n",
    "        model.to(device)\n",
    "        model.load_state_dict(model_dict[\"model_state_dict\"])\n",
    "        model.eval()\n",
    "\n",
    "        y_pred = []\n",
    "        y_true = []\n",
    "\n",
    "        for inputs, labels in test_loader_0123:\n",
    "            inputs, labels = inputs.to(device), labels.to(device)\n",
    "            output = model(inputs)\n",
    "\n",
    "            output = (torch.max(torch.exp(output), 1)[1]).data.cpu().numpy()\n",
    "            y_pred.extend(output)\n",
    "\n",
    "            labels = labels.data.cpu().numpy()\n",
    "            y_true.extend(labels)\n",
    "\n",
    "        classes = (\"T-shirt/top\", \"Trouser\", \"Pullover\", \"Dress\")\n",
    "        metric = ConfusionMatrix(task=\"multiclass\", num_classes=4)\n",
    "        metric.update(torch.tensor(y_pred), torch.tensor(y_true))\n",
    "        conf_matrix_tensor = metric.compute().detach().cpu()\n",
    "        conf_matrix_numpy = conf_matrix_tensor.numpy()\n",
    "\n",
    "        distance_AB = np.linalg.norm(conf_matrix_numpy - avg_confusion[0])\n",
    "        distance_AC = np.linalg.norm(conf_matrix_numpy - avg_confusion[1])\n",
    "\n",
    "        A_off_diag = conf_matrix_numpy - np.diag(np.diag(conf_matrix_numpy))\n",
    "        B_off_diag = avg_confusion[0] - np.diag(np.diag(avg_confusion[0]))\n",
    "        C_off_diag = avg_confusion[1] - np.diag(np.diag(avg_confusion[1]))\n",
    "\n",
    "        distance_AB_off_diag = np.linalg.norm(A_off_diag - B_off_diag)\n",
    "        distance_AC_off_diag = np.linalg.norm(A_off_diag - C_off_diag)\n",
    "\n",
    "        distance_AB_diag = np.linalg.norm(conf_matrix_numpy - avg_confusion[0])\n",
    "        distance_AC_diag = np.linalg.norm(conf_matrix_numpy - avg_confusion[1])\n",
    "\n",
    "        if distance_AB < distance_AC:\n",
    "            result.append(0)\n",
    "        else:\n",
    "            result.append(1)\n",
    "\n",
    "        if distance_AB_off_diag < distance_AC_off_diag:\n",
    "            result_off_diag.append(0)\n",
    "        else:\n",
    "            result_off_diag.append(1)\n",
    "\n",
    "        if distance_AB_diag < distance_AC_diag:\n",
    "            result_diag.append(0)\n",
    "        else:\n",
    "            result_diag.append(1)\n",
    "\n",
    "    results.append(result)\n",
    "    results_off_diag.append(result_off_diag)\n",
    "    results_diag.append(result_diag)"
   ]
  },
  {
   "cell_type": "markdown",
   "metadata": {},
   "source": [
    "### Print results"
   ]
  },
  {
   "cell_type": "code",
   "execution_count": null,
   "metadata": {},
   "outputs": [
    {
     "name": "stdout",
     "output_type": "stream",
     "text": [
      "There are 37 correct predictions for version 01_0123 out of 50 tests, 74.00% success\n",
      "There are 46 correct predictions for version 23_0123 out of 50 tests, 92.00% success\n"
     ]
    }
   ],
   "source": [
    "number_correct_0 = (np.array(results[0]) == 0).sum()\n",
    "number_correct_1 = (np.array(results[1]) == 1).sum()\n",
    "\n",
    "print(\n",
    "    f\"There are {number_correct_0} correct predictions for version {versions[0]} out of {len(results[0])} tests, {number_correct_0*100/len(results[0]):.2f}% success\"\n",
    ")\n",
    "print(\n",
    "    f\"There are {number_correct_1} correct predictions for version {versions[1]} out of {len(results[1])} tests, {number_correct_1*100/len(results[1]):.2f}% success\"\n",
    ")"
   ]
  },
  {
   "cell_type": "code",
   "execution_count": null,
   "metadata": {},
   "outputs": [
    {
     "name": "stdout",
     "output_type": "stream",
     "text": [
      "There are 42 correct predictions for version 01_0123 out of 50 tests, 84.00% success\n",
      "There are 45 correct predictions for version 23_0123 out of 50 tests, 90.00% success\n"
     ]
    }
   ],
   "source": [
    "number_correct_0 = (np.array(results_off_diag[0]) == 0).sum()\n",
    "number_correct_1 = (np.array(results_off_diag[1]) == 1).sum()\n",
    "\n",
    "print(\n",
    "    f\"There are {number_correct_0} correct predictions for version {versions[0]} out of {len(results[0])} tests, {number_correct_0*100/len(results[0]):.2f}% success\"\n",
    ")\n",
    "print(\n",
    "    f\"There are {number_correct_1} correct predictions for version {versions[1]} out of {len(results[1])} tests, {number_correct_1*100/len(results[1]):.2f}% success\"\n",
    ")"
   ]
  },
  {
   "cell_type": "code",
   "execution_count": null,
   "metadata": {},
   "outputs": [
    {
     "name": "stdout",
     "output_type": "stream",
     "text": [
      "There are 37 correct predictions for version 01_0123 out of 50 tests, 74.00% success\n",
      "There are 46 correct predictions for version 23_0123 out of 50 tests, 92.00% success\n"
     ]
    }
   ],
   "source": [
    "number_correct_0 = (np.array(results_diag[0]) == 0).sum()\n",
    "number_correct_1 = (np.array(results_diag[1]) == 1).sum()\n",
    "\n",
    "print(\n",
    "    f\"There are {number_correct_0} correct predictions for version {versions[0]} out of {len(results[0])} tests, {number_correct_0*100/len(results[0]):.2f}% success\"\n",
    ")\n",
    "print(\n",
    "    f\"There are {number_correct_1} correct predictions for version {versions[1]} out of {len(results[1])} tests, {number_correct_1*100/len(results[1]):.2f}% success\"\n",
    ")"
   ]
  }
 ],
 "metadata": {
  "kernelspec": {
   "display_name": ".venv",
   "language": "python",
   "name": "python3"
  },
  "language_info": {
   "codemirror_mode": {
    "name": "ipython",
    "version": 3
   },
   "file_extension": ".py",
   "mimetype": "text/x-python",
   "name": "python",
   "nbconvert_exporter": "python",
   "pygments_lexer": "ipython3",
   "version": "3.10.12"
  },
  "orig_nbformat": 4
 },
 "nbformat": 4,
 "nbformat_minor": 2
}
